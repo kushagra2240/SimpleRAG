{
 "cells": [
  {
   "cell_type": "code",
   "execution_count": 3,
   "metadata": {},
   "outputs": [
    {
     "name": "stdout",
     "output_type": "stream",
     "text": [
      "222\n"
     ]
    }
   ],
   "source": [
    "from langchain_community.document_loaders import PyPDFLoader\n",
    "\n",
    "file_path = r\"D:\\GenAI\\RAG\\data\\ffiec_itbooklet_developmentacquisitionmaintenance.pdf\"\n",
    "loader = PyPDFLoader(file_path)\n",
    "\n",
    "docs = loader.load()\n",
    "\n",
    "print(len(docs))"
   ]
  },
  {
   "cell_type": "code",
   "execution_count": null,
   "metadata": {},
   "outputs": [],
   "source": [
    "print(f\"{docs[140].page_content[:150]}\\n\")\n",
    "print(docs[140].metadata)"
   ]
  },
  {
   "cell_type": "code",
   "execution_count": 4,
   "metadata": {},
   "outputs": [
    {
     "data": {
      "text/plain": [
       "905"
      ]
     },
     "execution_count": 4,
     "metadata": {},
     "output_type": "execute_result"
    }
   ],
   "source": [
    "from langchain_text_splitters import RecursiveCharacterTextSplitter\n",
    "\n",
    "text_splitter = RecursiveCharacterTextSplitter(\n",
    "    chunk_size=1000, chunk_overlap=200, add_start_index=True\n",
    ")\n",
    "all_splits = text_splitter.split_documents(docs)\n",
    "\n",
    "len(all_splits)"
   ]
  },
  {
   "cell_type": "code",
   "execution_count": 5,
   "metadata": {},
   "outputs": [],
   "source": [
    "from openai import AzureOpenAI\n",
    "from dotenv import load_dotenv\n",
    "import os\n",
    "import getpass"
   ]
  },
  {
   "cell_type": "code",
   "execution_count": 6,
   "metadata": {},
   "outputs": [],
   "source": [
    "load_dotenv()\n",
    "AZURE_OPENAI_API_KEY = os.getenv(\"OPEN_API_KEY\")\n",
    "AZURE_OPENAI_ENDPOINT = os.getenv(\"AZURE_OPENAI_ENDPOINT\")"
   ]
  },
  {
   "cell_type": "code",
   "execution_count": 7,
   "metadata": {},
   "outputs": [],
   "source": [
    "from langchain_openai import AzureOpenAIEmbeddings\n",
    "\n",
    "embeddings = AzureOpenAIEmbeddings(\n",
    "    model=\"text-embedding-3-small\",\n",
    "    # dimensions: Optional[int] = None, # Can specify dimensions with new text-embedding-3 models\n",
    "    # azure_endpoint=\"https://<your-endpoint>.openai.azure.com/\", If not provided, will read env variable AZURE_OPENAI_ENDPOINT\n",
    "    # api_key=... # Can provide an API key directly. If missing read env variable AZURE_OPENAI_API_KEY\n",
    "    # openai_api_version=..., # If not provided, will read env variable AZURE_OPENAI_API_VERSION\n",
    ")"
   ]
  },
  {
   "cell_type": "code",
   "execution_count": 8,
   "metadata": {},
   "outputs": [
    {
     "name": "stdout",
     "output_type": "stream",
     "text": [
      "Generated vectors of length 1536\n",
      "\n",
      "[-0.010430463589727879, -0.005864460486918688, 0.039866916835308075, -0.00943165086209774, 0.029621947556734085, -0.013712278567254543, 0.0031979859340935946, 0.009845444932579994, -0.0033281883224844933, 0.015923935920000076]\n"
     ]
    }
   ],
   "source": [
    "vector_1 = embeddings.embed_query(all_splits[0].page_content)\n",
    "vector_2 = embeddings.embed_query(all_splits[1].page_content)\n",
    "\n",
    "assert len(vector_1) == len(vector_2)\n",
    "print(f\"Generated vectors of length {len(vector_1)}\\n\")\n",
    "print(vector_1[:10])"
   ]
  },
  {
   "cell_type": "code",
   "execution_count": 9,
   "metadata": {},
   "outputs": [
    {
     "name": "stderr",
     "output_type": "stream",
     "text": [
      "C:\\Users\\kusha\\AppData\\Local\\Temp\\ipykernel_20808\\2269285310.py:3: LangChainDeprecationWarning: The class `Chroma` was deprecated in LangChain 0.2.9 and will be removed in 1.0. An updated version of the class exists in the :class:`~langchain-chroma package and should be used instead. To use it run `pip install -U :class:`~langchain-chroma` and import as `from :class:`~langchain_chroma import Chroma``.\n",
      "  vector_store = Chroma(embedding_function=embeddings)\n"
     ]
    }
   ],
   "source": [
    "from langchain_community.vectorstores import Chroma\n",
    "\n",
    "vector_store = Chroma(embedding_function=embeddings)"
   ]
  },
  {
   "cell_type": "code",
   "execution_count": 11,
   "metadata": {},
   "outputs": [],
   "source": [
    "ids = vector_store.add_documents(documents=all_splits)"
   ]
  },
  {
   "cell_type": "code",
   "execution_count": 13,
   "metadata": {},
   "outputs": [],
   "source": [
    "query = \"What are the minimum security controls required for the development of IT systems in the document?\""
   ]
  },
  {
   "cell_type": "code",
   "execution_count": 17,
   "metadata": {},
   "outputs": [],
   "source": [
    "results = vector_store.similarity_search_with_score(\n",
    "    query,\n",
    "    k=10\n",
    ")\n",
    "\n"
   ]
  },
  {
   "cell_type": "code",
   "execution_count": 18,
   "metadata": {},
   "outputs": [
    {
     "name": "stdout",
     "output_type": "stream",
     "text": [
      "Content: FFIEC IT Examination Handbook  Development, Acquisition, and Maintenance \n",
      "August 2024 95 \n",
      "efficiently. Finally, use of naming conventions often facilitates software code reuse and \n",
      "repurposing. \n",
      " \n",
      "To establish development standards and controls, prudent practices include thorough \n",
      "development testing and validation of systems and component-related code. Effective \n",
      "management keeps completed systems and component-related code that have passed security \n",
      "certification in program libraries as discussed in the “Additional Control Considerations in \n",
      "Change Management” section of this booklet. \n",
      " \n",
      "Due to supply chain risk in development, for both in-house and supply chain partners, it is \n",
      "important to consider using the following standards and controls when developing information \n",
      "systems and components: \n",
      " \n",
      "• Design security controls to be difficult to disable (e.g., tamper-proofing techniques), and, if \n",
      "they are disabled, trigger notification methods such as audit trails, tamper evidence, or\n",
      "Metadata: {'page': 99, 'source': 'D:\\\\GenAI\\\\RAG\\\\data\\\\ffiec_itbooklet_developmentacquisitionmaintenance.pdf', 'start_index': 0}\n",
      "Similarity Score: 0.7319782972335815\n",
      "---\n",
      "Content: Examiners should review the following: \n",
      " \n",
      "• Documentation of training in secure design and coding techniques for those responsible for \n",
      "development activities. \n",
      "• Development standards, including procedures for managing changes and a back-out plan. \n",
      "• Evidence of communication throughout the supply chain regarding identification of critical \n",
      "systems and components, potential threats and vulnerabilities, configurations, and \n",
      "responsibilities for selection and maintenance of system and network components.\n",
      "Metadata: {'page': 169, 'source': 'D:\\\\GenAI\\\\RAG\\\\data\\\\ffiec_itbooklet_developmentacquisitionmaintenance.pdf', 'start_index': 2475}\n",
      "Similarity Score: 0.7393978834152222\n",
      "---\n",
      "Content: characteristics. For example, an entity may implement a policy that highly sensitive data will not \n",
      "be used in development and test environments. Instead, an entity may create synthetic data to use \n",
      "in development and testing that is a proxy for the actual, highly sensitive data. Another control \n",
      "example is documenting system data use so that security engineers can implement controls that \n",
      "protect data throughout process execution.50 For more information, refer to the FFIEC IT \n",
      "Handbook’s “Information Security” and “Architecture, Infrastructure, and Operations” booklets. \n",
      " \n",
      "IV.F Secure Operating Environments \n",
      " \n",
      "Management should maintain a secure operating environment throughout development, \n",
      "acquisition, and maintenance activities whether entity employees are operating the system or a \n",
      "third party’s employees are operating the system. Entities use various controls to secure \n",
      "operating environments, such as configuration management, access control, and business\n",
      "Metadata: {'page': 36, 'source': 'D:\\\\GenAI\\\\RAG\\\\data\\\\ffiec_itbooklet_developmentacquisitionmaintenance.pdf', 'start_index': 1578}\n",
      "Similarity Score: 0.7905268669128418\n",
      "---\n",
      "Content: g. Plan for maintenance activities from the outset of the development process to address \n",
      "secure continuity of operations. \n",
      " \n",
      "2. Assess management’s development of standards and controls. Consider the following: \n",
      " \n",
      "a. Procedures for managing changes during the development process, that address: \n",
      "▪ System controls. \n",
      "▪ Quality management. \n",
      "▪ Release management. \n",
      "▪ Documentation. \n",
      "▪ Reporting. \n",
      "b. Documentation of reasons for using specific programming styles and languages on a \n",
      "project or service in project documentation. \n",
      "c. Documentation of completed systems and component-related code that have passed \n",
      "security certification in program libraries as discussed in the “Additional Control \n",
      "Considerations in Change Management” section of this booklet. \n",
      "d. Design of information systems, components, and elements to be difficult to disable \n",
      "(e.g., tamper-proofing techniques), and, if they are disabled, trigger notification \n",
      "methods such as audit trails, tamper evidence, or alarms.\n",
      "Metadata: {'page': 170, 'source': 'D:\\\\GenAI\\\\RAG\\\\data\\\\ffiec_itbooklet_developmentacquisitionmaintenance.pdf', 'start_index': 1688}\n",
      "Similarity Score: 0.8058187961578369\n",
      "---\n",
      "Content: FFIEC IT Examination Handbook  Development, Acquisition, and Maintenance \n",
      "August 2024 154 \n",
      "c. Determine that secure development standards apply to the development of any system \n",
      "or component changes (e.g., patches or updates) for the maintenance of systems and \n",
      "components. \n",
      "d. Incorporate security in the code, and implement quality management, which is critical \n",
      "to the secure development process. \n",
      "e. Determine that the embedded rules of the code review tools are appropriately \n",
      "configured and used if an automated code review process is implemented. \n",
      "f. Maintain a secure operating environment throughout development, acquisition, and \n",
      "maintenance activities, promoting secure development practices whether operations \n",
      "are performed in-house by entity personnel or outsourced to a third party. \n",
      " \n",
      "6. Assess management’s actions to securely manage data. Consider management’s actions \n",
      "to \n",
      " \n",
      "a. Identify the data, their characteristics (e.g., customer sensitive information or\n",
      "Metadata: {'page': 158, 'source': 'D:\\\\GenAI\\\\RAG\\\\data\\\\ffiec_itbooklet_developmentacquisitionmaintenance.pdf', 'start_index': 0}\n",
      "Similarity Score: 0.8097681999206543\n",
      "---\n",
      "Content: FFIEC IT Examination Handbook  Development, Acquisition, and Maintenance \n",
      "August 2024 93 \n",
      "• Identify and correct vulnerabilities before release of software to production to prevent \n",
      "exploitation. \n",
      " \n",
      "Developers should communicate throughout the supply chain to ensure that partners are aware of \n",
      "potential threats and vulnerabilities when developing, testing, and maintaining systems and \n",
      "components. Additionally, the individuals responsible for selecting system and network \n",
      "components should incorporate supply chain processes when choosing such components. \n",
      "Developer training should include secure coding and the use of tools to find vulnerabilities in \n",
      "systems and components across the supply chain. For more information, refer to the “Supply \n",
      "Chain Considerations” section of this booklet. \n",
      " \n",
      "V.A Development Standards and Controls \n",
      " \n",
      "Management should establish development standards, including procedures for controlling \n",
      "changes during the development process that address the following:\n",
      "Metadata: {'page': 97, 'source': 'D:\\\\GenAI\\\\RAG\\\\data\\\\ffiec_itbooklet_developmentacquisitionmaintenance.pdf', 'start_index': 0}\n",
      "Similarity Score: 0.8167489171028137\n",
      "---\n",
      "Content: Documentation helps transfer key information (e.g., narratives, flowcharts, and any special \n",
      "system coding or file layouts) over time and across groups. Management should maintain \n",
      "documentation for both internally developed systems and components and externally procured \n",
      "products and services. Due to the sensitive nature of system and component documentation (e.g., \n",
      "internet protocol addresses, server names, and security controls), management should restrict \n",
      "access to sensitive documentation based on job description and need. \n",
      " \n",
      "Examples of items that documentation may contain include feature and function descriptions, \n",
      "design specifications, programming descriptions, build procedures, and operating instructions. \n",
      "Also, documentation should be updated as systems and components are updated to ensure that \n",
      "the benefits described above continue. \n",
      " \n",
      "121 For more information, refer to NIST SP 800-53, rev. 5, Security and Privacy Controls for Information Systems \n",
      "and Organizations.\n",
      "Metadata: {'page': 57, 'source': 'D:\\\\GenAI\\\\RAG\\\\data\\\\ffiec_itbooklet_developmentacquisitionmaintenance.pdf', 'start_index': 2366}\n",
      "Similarity Score: 0.817770779132843\n",
      "---\n",
      "Content: • Design security controls to be difficult to disable (e.g., tamper-proofing techniques), and, if \n",
      "they are disabled, trigger notification methods such as audit trails, tamper evidence, or \n",
      "alarms. \n",
      "• Design delivery mechanisms (e.g., downloads for software) to avoid unnecessary exposure or \n",
      "access to the supply chain and systems or components traversing the supply chain. \n",
      "• Design relevant validation mechanisms to be used during implementation and operation. \n",
      " \n",
      "Developer configuration management is critical for reducing cybersecurity risks, both in-house \n",
      "and throughout the supply chain. Developers should manage the configurations of the \n",
      "development environments in which they are working. They should create configuration guides \n",
      "for the systems and components they are developing for distribution with the system or \n",
      "component. By implementing configuration management standards and controls, developers\n",
      "Metadata: {'page': 99, 'source': 'D:\\\\GenAI\\\\RAG\\\\data\\\\ffiec_itbooklet_developmentacquisitionmaintenance.pdf', 'start_index': 811}\n",
      "Similarity Score: 0.8178558945655823\n",
      "---\n",
      "Content: developers cannot directly alter the production environment. Inappropriate developer access may \n",
      "adversely affect the production environment’s confidentiality, integrity, availability, or \n",
      "resilience. Effective dual control allows management and other personnel to identify and address \n",
      "problems earlier since no single person or group can make changes or modifications without \n",
      "appropriate approval. Without dual control, seemingly small coding, building, and patching \n",
      "problems can quickly escalate in scale. \n",
      " \n",
      " \n",
      "16 Refer to Cybersecurity and Infrastructure Security Agency (CISA), CRR Supplemental Resource Guide, Vol. 3: \n",
      "Configuration and Change Management, Version 1.1. Also refer to CISA, CRR Supplemental Resource Guide, Vol. \n",
      "5: Incident Management, Version 1.1.\n",
      "Metadata: {'page': 14, 'source': 'D:\\\\GenAI\\\\RAG\\\\data\\\\ffiec_itbooklet_developmentacquisitionmaintenance.pdf', 'start_index': 2373}\n",
      "Similarity Score: 0.8345789313316345\n",
      "---\n",
      "Content: customer information or customer information systems.”139 Therefore, it is important to identify \n",
      "security controls requirements and consider appropriate controls that might affect the entire \n",
      "supply chain. It is typical for system and component functionality and design to change \n",
      "throughout the phase, which can change security effectiveness. The security impact analysis \n",
      "performed during the SDLC initiation phase can be helpful to evaluate security adequacy before, \n",
      "during, and after system and component changes are made in this phase.140 Early implementation \n",
      " \n",
      "139 Refer to GLBA and 15 USC 6801 and 6805(b), further implemented by FFIEC members as follows: FDIC: 12 \n",
      "CFR 364, appendix B, “Interagency Guidelines Establishing Information Security Standards,” and 12 CFR 364, \n",
      "supplement A to appendix B, “Interagency Guidance on Response Programs for Unauthorized Access to Customer  \n",
      "Information and Customer Notice;” FRB: Regulation H, 12 CFR 208, appendix D-2, “Interagency Guidelines\n",
      "Metadata: {'page': 72, 'source': 'D:\\\\GenAI\\\\RAG\\\\data\\\\ffiec_itbooklet_developmentacquisitionmaintenance.pdf', 'start_index': 2441}\n",
      "Similarity Score: 0.8394345045089722\n",
      "---\n"
     ]
    }
   ],
   "source": [
    "for doc, score in results:\n",
    "    print(f\"Content: {doc.page_content}\")\n",
    "    print(f\"Metadata: {doc.metadata}\")\n",
    "    print(f\"Similarity Score: {score}\")  # The lower the score, the more similar\n",
    "    print(\"---\")"
   ]
  },
  {
   "cell_type": "code",
   "execution_count": null,
   "metadata": {},
   "outputs": [],
   "source": []
  }
 ],
 "metadata": {
  "kernelspec": {
   "display_name": "gpu_torch",
   "language": "python",
   "name": "gpu_torch"
  },
  "language_info": {
   "codemirror_mode": {
    "name": "ipython",
    "version": 3
   },
   "file_extension": ".py",
   "mimetype": "text/x-python",
   "name": "python",
   "nbconvert_exporter": "python",
   "pygments_lexer": "ipython3",
   "version": "3.12.8"
  }
 },
 "nbformat": 4,
 "nbformat_minor": 2
}
